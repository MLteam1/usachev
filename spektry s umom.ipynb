{
 "cells": [
  {
   "cell_type": "code",
   "execution_count": 35,
   "metadata": {
    "collapsed": true
   },
   "outputs": [],
   "source": [
    "import pandas\n",
    "train_data = pandas.DataFrame.from_csv(\"train.csv\")\n",
    "test_data = pandas.DataFrame.from_csv(\"test.csv\")"
   ]
  },
  {
   "cell_type": "code",
   "execution_count": 36,
   "metadata": {
    "collapsed": false
   },
   "outputs": [],
   "source": [
    "import numpy as np\n"
   ]
  },
  {
   "cell_type": "code",
   "execution_count": 37,
   "metadata": {
    "collapsed": false
   },
   "outputs": [
    {
     "name": "stdout",
     "output_type": "stream",
     "text": [
      "[1 3 5 7]\n",
      "(0, 1)\n",
      "(1, 3)\n",
      "(2, 5)\n",
      "(3, 7)\n",
      "3\n"
     ]
    }
   ],
   "source": [
    "a=np.array([0,2,4,6])\n",
    "a=a+[1]\n",
    "print(a)\n",
    "for i,x in enumerate(a):\n",
    "    print(i,x)\n",
    "c=-3\n",
    "\n",
    "print(abs(c))"
   ]
  },
  {
   "cell_type": "code",
   "execution_count": 38,
   "metadata": {
    "collapsed": true
   },
   "outputs": [],
   "source": [
    "def get_std(X,Y, model):\n",
    "    score = np.sqrt(sum((model.predict(X)-Y)**2)*1.0/len(Y))\n",
    "    return score"
   ]
  },
  {
   "cell_type": "code",
   "execution_count": 39,
   "metadata": {
    "collapsed": false
   },
   "outputs": [],
   "source": [
    "def clean_data_after_model(X,Y, model):\n",
    "    import numpy as np\n",
    "#     import sys\n",
    "    std3=get_std(X,Y,model)*3\n",
    "#     print (std3)\n",
    "    YP=model.predict(X)\n",
    "    Ynew=np.array([],dtype='float64')\n",
    "    Xnew=[]\n",
    "#     Xnew=np.array([],dtype='float64')\n",
    "    for index,item in enumerate(Y):\n",
    "#         print(abs(item-YP[index]))\n",
    "        if (abs(item-YP[index]))<std3:\n",
    "#             sys.stdout.write(str(item))\n",
    "#             sys.stdout.write(' ;')\n",
    "            Ynew = np.append(Ynew, item)\n",
    "            Xnew.append(np.array(X[index]))\n",
    "#             Xnew = np.append(Xnew, np.array(X[index]),axis=0)\n",
    "        else:\n",
    "            continue\n",
    "    Xnew = np.array(Xnew,dtype='float64')\n",
    "    print(Xnew.shape, Ynew.shape)\n",
    "    return Xnew, Ynew\n",
    "            \n",
    "            "
   ]
  },
  {
   "cell_type": "code",
   "execution_count": 40,
   "metadata": {
    "collapsed": true
   },
   "outputs": [],
   "source": [
    "def clean_data(X,Y):\n",
    "    import numpy as np\n",
    "    std3=Y.std()*3\n",
    "    ymean=Y.mean()\n",
    "    Ynew=np.array([],dtype='float64')\n",
    "    Xnew=[]  \n",
    "    for index,item in enumerate(Y):\n",
    "        if (item>(ymean-std3)) and (item<(ymean+std3)) :\n",
    "            Ynew = np.append(Ynew, item)\n",
    "            Xnew.append(np.array(X[index]))\n",
    "        else:\n",
    "            continue\n",
    "    Xnew = np.array(Xnew,dtype='float64')\n",
    "    print(Xnew.shape, Ynew.shape)\n",
    "    return Xnew, Ynew\n",
    "    \n"
   ]
  },
  {
   "cell_type": "code",
   "execution_count": 41,
   "metadata": {
    "collapsed": false
   },
   "outputs": [],
   "source": [
    "X=np.array(train_data, dtype='float64')\n",
    "Y=np.array(train_data.index, dtype='float64')"
   ]
  },
  {
   "cell_type": "code",
   "execution_count": 42,
   "metadata": {
    "collapsed": true
   },
   "outputs": [],
   "source": [
    "from sklearn.linear_model import LinearRegression\n",
    "model = LinearRegression()"
   ]
  },
  {
   "cell_type": "code",
   "execution_count": 43,
   "metadata": {
    "collapsed": true
   },
   "outputs": [],
   "source": [
    "Xtest=np.array(test_data, dtype='float64')\n",
    "Ytest=np.array(test_data.index, dtype='float64')"
   ]
  },
  {
   "cell_type": "code",
   "execution_count": 44,
   "metadata": {
    "collapsed": false
   },
   "outputs": [
    {
     "name": "stdout",
     "output_type": "stream",
     "text": [
      "((5606, 330), (5606,))\n"
     ]
    }
   ],
   "source": [
    "Xclean1,Yclean1 = clean_data(X,Y)"
   ]
  },
  {
   "cell_type": "code",
   "execution_count": 45,
   "metadata": {
    "collapsed": false
   },
   "outputs": [
    {
     "data": {
      "text/plain": [
       "LinearRegression(copy_X=True, fit_intercept=True, n_jobs=1, normalize=False)"
      ]
     },
     "execution_count": 45,
     "metadata": {},
     "output_type": "execute_result"
    }
   ],
   "source": [
    "model.fit (X,Y)"
   ]
  },
  {
   "cell_type": "code",
   "execution_count": 46,
   "metadata": {
    "collapsed": false
   },
   "outputs": [
    {
     "name": "stdout",
     "output_type": "stream",
     "text": [
      "0.797969373117\n"
     ]
    }
   ],
   "source": [
    "print(get_std(X,Y,model)) #нечищенные данные, модель на нечищенных данных"
   ]
  },
  {
   "cell_type": "code",
   "execution_count": 47,
   "metadata": {
    "collapsed": false
   },
   "outputs": [
    {
     "name": "stdout",
     "output_type": "stream",
     "text": [
      "0.800314552444\n"
     ]
    }
   ],
   "source": [
    "model1=LinearRegression()\n",
    "model1.fit(Xclean1,Yclean1)\n",
    "print (get_std(X,Y,model1)) #нечищенные данные, модель на чищенных данных"
   ]
  },
  {
   "cell_type": "code",
   "execution_count": 48,
   "metadata": {
    "collapsed": false
   },
   "outputs": [
    {
     "name": "stdout",
     "output_type": "stream",
     "text": [
      "0.787925645518\n"
     ]
    }
   ],
   "source": [
    "print (get_std(Xclean1,Yclean1,model1)) #чищенные данные, модель на чищенных данных"
   ]
  },
  {
   "cell_type": "code",
   "execution_count": 49,
   "metadata": {
    "collapsed": false
   },
   "outputs": [
    {
     "name": "stdout",
     "output_type": "stream",
     "text": [
      "((5559, 330), (5559,))\n"
     ]
    }
   ],
   "source": [
    "Xclean2,Yclean2 = clean_data_after_model(Xclean1, Yclean1, model1) #очистили данные по результатам моделирования"
   ]
  },
  {
   "cell_type": "code",
   "execution_count": 50,
   "metadata": {
    "collapsed": false
   },
   "outputs": [
    {
     "name": "stdout",
     "output_type": "stream",
     "text": [
      "0.741386152137\n"
     ]
    }
   ],
   "source": [
    "print (get_std(Xclean2,Yclean2,model1)) #повторно очищенные данные, модель на чищенных данных"
   ]
  },
  {
   "cell_type": "code",
   "execution_count": 51,
   "metadata": {
    "collapsed": false
   },
   "outputs": [
    {
     "name": "stdout",
     "output_type": "stream",
     "text": [
      "2.09245688712\n"
     ]
    }
   ],
   "source": [
    "print(get_std(Xtest,Ytest,model)) #тестовые данные, модель на нечищенных данных"
   ]
  },
  {
   "cell_type": "code",
   "execution_count": 52,
   "metadata": {
    "collapsed": false
   },
   "outputs": [
    {
     "name": "stdout",
     "output_type": "stream",
     "text": [
      "2.01916313101\n"
     ]
    }
   ],
   "source": [
    "print(get_std(Xtest,Ytest,model1)) #тестовые данные, модель на чищенных данных"
   ]
  },
  {
   "cell_type": "code",
   "execution_count": 53,
   "metadata": {
    "collapsed": false
   },
   "outputs": [
    {
     "data": {
      "text/plain": [
       "LinearRegression(copy_X=True, fit_intercept=True, n_jobs=1, normalize=False)"
      ]
     },
     "execution_count": 53,
     "metadata": {},
     "output_type": "execute_result"
    }
   ],
   "source": [
    "model2=LinearRegression()\n",
    "model2.fit(Xclean2,Yclean2) #строим модель на повторно очищенных данных"
   ]
  },
  {
   "cell_type": "code",
   "execution_count": 54,
   "metadata": {
    "collapsed": false
   },
   "outputs": [
    {
     "name": "stdout",
     "output_type": "stream",
     "text": [
      "2.04020831898\n"
     ]
    }
   ],
   "source": [
    "print(get_std(Xtest,Ytest,model2)) #тестовые данные, модель на повторно очищенных данных"
   ]
  },
  {
   "cell_type": "code",
   "execution_count": 55,
   "metadata": {
    "collapsed": true
   },
   "outputs": [],
   "source": [
    "def minus_indexes(start, finish, step): #служебная для итераций по индексам\n",
    "    r=[]\n",
    "    for i in range(start,finish,step):\n",
    "        r.append(i)\n",
    "    return r"
   ]
  },
  {
   "cell_type": "code",
   "execution_count": 56,
   "metadata": {
    "collapsed": false
   },
   "outputs": [],
   "source": [
    "def make_cross_model(X,Y,n): #содает n наборов и n моделей для кросс-валидации на данных X,Y \n",
    "    import numpy\n",
    "    Xvaltest=[]\n",
    "    Yvaltest=[]\n",
    "    Xvaltrain=[]\n",
    "    Yvaltrain=[]\n",
    "    for i in range(0,n):\n",
    "        Xvaltest.append(numpy.array(X[i::n],dtype=\"float32\"))\n",
    "        Yvaltest.append(Y[i::n])\n",
    "        Xvaltrain.append(numpy.asarray(numpy.delete(X, minus_indexes(i,len(X),n),axis=0),dtype=\"float32\"))\n",
    "        Yvaltrain.append(numpy.asarray(numpy.delete(Y,minus_indexes(i,len(Y),n)),dtype=\"float32\"))\n",
    "\n",
    "    Xvaltest=(numpy.array(Xvaltest,dtype=\"float32\"))\n",
    "    Yvaltest=(numpy.array(Yvaltest,dtype=\"float32\"))\n",
    "    Xvaltrain=(numpy.array(Xvaltrain,dtype=\"float32\"))\n",
    "    Yvaltrain=(numpy.array(Yvaltrain,dtype=\"float32\"))\n",
    "    print(Xvaltest.shape, Yvaltest.shape, Xvaltrain.shape, Yvaltrain.shape)\n",
    "    cross_model=[]\n",
    "    for i in range (0,n):\n",
    "        cross_model.append(LinearRegression())\n",
    "    return Xvaltest, Yvaltest, Xvaltrain, Yvaltrain, cross_model"
   ]
  },
  {
   "cell_type": "code",
   "execution_count": 57,
   "metadata": {
    "collapsed": false
   },
   "outputs": [
    {
     "name": "stdout",
     "output_type": "stream",
     "text": [
      "((5, 1124, 330), (5, 1124), (5, 4496, 330), (5, 4496))\n"
     ]
    }
   ],
   "source": [
    "Xvaltest, Yvaltest, Xvaltrain, Yvaltrain, cross_model = make_cross_model(X,Y,5) "
   ]
  },
  {
   "cell_type": "code",
   "execution_count": 58,
   "metadata": {
    "collapsed": false
   },
   "outputs": [
    {
     "data": {
      "text/plain": [
       "numpy.float32"
      ]
     },
     "execution_count": 58,
     "metadata": {},
     "output_type": "execute_result"
    }
   ],
   "source": [
    "type(Xvaltrain[1][1][1])"
   ]
  },
  {
   "cell_type": "code",
   "execution_count": 59,
   "metadata": {
    "collapsed": true
   },
   "outputs": [],
   "source": [
    "def get_cross_results (Xvaltest, Yvaltest, Xvaltrain, Yvaltrain, cross_model):\n",
    "\n",
    "    for modelc in cross_model:\n",
    "#         print(cross_model.index(modelc))\n",
    "        modelc.fit(Xvaltrain[cross_model.index(modelc)], Yvaltrain[cross_model.index(modelc)])\n",
    "    print (u'Результаты на тестовых данных из базового набора')\n",
    "    for i in range (0,Xvaltest.shape[0]):\n",
    "        print (get_std(Xvaltest[i],Yvaltest[i], cross_model[i]))\n",
    "    print (u'Результаты на основном тестовом наборе')\n",
    "    for i in range (0,Xvaltest.shape[0]):\n",
    "        print (get_std(Xtest,Ytest, cross_model[i]))\n",
    "    "
   ]
  },
  {
   "cell_type": "code",
   "execution_count": 60,
   "metadata": {
    "collapsed": false
   },
   "outputs": [
    {
     "name": "stdout",
     "output_type": "stream",
     "text": [
      "Результаты на тестовых данных из базового набора\n",
      "0.901031615055\n",
      "0.936772838439\n",
      "0.854537724234\n",
      "0.82634089798\n",
      "0.870702487956\n",
      "Результаты на основном тестовом наборе\n",
      "1.84092308853\n",
      "2.36279475445\n",
      "3.24486563995\n",
      "1.94383705633\n",
      "2.21382417487\n"
     ]
    }
   ],
   "source": [
    "get_cross_results (Xvaltest, Yvaltest, Xvaltrain, Yvaltrain, cross_model)"
   ]
  },
  {
   "cell_type": "code",
   "execution_count": 61,
   "metadata": {
    "collapsed": true
   },
   "outputs": [],
   "source": [
    "# Дерево? Лес? SVM? Ridge?"
   ]
  },
  {
   "cell_type": "code",
   "execution_count": 62,
   "metadata": {
    "collapsed": false
   },
   "outputs": [],
   "source": [
    "from sklearn.tree import DecisionTreeRegressor\n",
    "tree = DecisionTreeRegressor(max_depth=15 )"
   ]
  },
  {
   "cell_type": "code",
   "execution_count": 63,
   "metadata": {
    "collapsed": false
   },
   "outputs": [
    {
     "data": {
      "text/plain": [
       "DecisionTreeRegressor(criterion='mse', max_depth=15, max_features=None,\n",
       "           max_leaf_nodes=None, min_samples_leaf=1, min_samples_split=2,\n",
       "           min_weight_fraction_leaf=0.0, presort=False, random_state=None,\n",
       "           splitter='best')"
      ]
     },
     "execution_count": 63,
     "metadata": {},
     "output_type": "execute_result"
    }
   ],
   "source": [
    "tree.fit(X,Y)"
   ]
  },
  {
   "cell_type": "code",
   "execution_count": 64,
   "metadata": {
    "collapsed": false
   },
   "outputs": [
    {
     "name": "stdout",
     "output_type": "stream",
     "text": [
      "0.481146747403\n"
     ]
    }
   ],
   "source": [
    "print (get_std(X,Y,tree))"
   ]
  },
  {
   "cell_type": "code",
   "execution_count": 65,
   "metadata": {
    "collapsed": false
   },
   "outputs": [
    {
     "name": "stdout",
     "output_type": "stream",
     "text": [
      "3.59512814267\n"
     ]
    }
   ],
   "source": [
    "print (get_std(Xtest,Ytest,tree))"
   ]
  },
  {
   "cell_type": "code",
   "execution_count": 66,
   "metadata": {
    "collapsed": false
   },
   "outputs": [],
   "source": [
    "from sklearn.ensemble import RandomForestRegressor"
   ]
  },
  {
   "cell_type": "code",
   "execution_count": 67,
   "metadata": {
    "collapsed": false
   },
   "outputs": [],
   "source": [
    "forest = RandomForestRegressor()"
   ]
  },
  {
   "cell_type": "code",
   "execution_count": 68,
   "metadata": {
    "collapsed": false
   },
   "outputs": [
    {
     "data": {
      "text/plain": [
       "RandomForestRegressor(bootstrap=True, criterion='mse', max_depth=None,\n",
       "           max_features='auto', max_leaf_nodes=None, min_samples_leaf=1,\n",
       "           min_samples_split=2, min_weight_fraction_leaf=0.0,\n",
       "           n_estimators=10, n_jobs=1, oob_score=False, random_state=None,\n",
       "           verbose=0, warm_start=False)"
      ]
     },
     "execution_count": 68,
     "metadata": {},
     "output_type": "execute_result"
    }
   ],
   "source": [
    "forest.fit(X,Y)"
   ]
  },
  {
   "cell_type": "code",
   "execution_count": 69,
   "metadata": {
    "collapsed": false
   },
   "outputs": [
    {
     "name": "stdout",
     "output_type": "stream",
     "text": [
      "3.0352267055\n"
     ]
    }
   ],
   "source": [
    "print (get_std(Xtest,Ytest,forest))"
   ]
  },
  {
   "cell_type": "code",
   "execution_count": 70,
   "metadata": {
    "collapsed": false
   },
   "outputs": [],
   "source": [
    "# #найдем корректирующие коэффициенты"
   ]
  },
  {
   "cell_type": "code",
   "execution_count": 71,
   "metadata": {
    "collapsed": true
   },
   "outputs": [],
   "source": [
    "corrected_model = LinearRegression()"
   ]
  },
  {
   "cell_type": "code",
   "execution_count": 72,
   "metadata": {
    "collapsed": false
   },
   "outputs": [
    {
     "data": {
      "text/plain": [
       "(array([ 19.15569354,  14.99962667,  19.27054614,  24.2221887 ,\n",
       "         25.18216571,  21.54857234,  21.03936374,  22.14035216,\n",
       "         19.29564473,  20.02530147,  18.15685172,  17.77021161,\n",
       "         16.89591028,  16.49523993,  14.16531489,  14.987365  ,\n",
       "         15.51772004,  17.73174465,  14.6180682 ,  18.01232436,\n",
       "         23.88690049,  19.25944662,  21.79945377,  17.91001623,\n",
       "         16.63343351,  20.69764565,  17.44847016,  17.97075312,\n",
       "         17.35627155,  18.96341046]),\n",
       " array([ 16.1599998,  14.2799997,  15.7399998,  34.0200005,  21.6299992,\n",
       "         21.8299999,  17.1700001,  22.1900005,  19.7700005,  17.5100002,\n",
       "         16.0200005,  18.4500008,  17.4099998,  15.0299997,  12.8500004,\n",
       "         14.3900003,  15.0600004,  16.9500008,  16.1800003,  21.7800007,\n",
       "         17.75     ,  17.8199997,  20.8400002,  16.6599998,  15.1999998,\n",
       "         17.5100002,  15.9399996,  17.4599991,  15.3699999,  15.6999998]))"
      ]
     },
     "execution_count": 72,
     "metadata": {},
     "output_type": "execute_result"
    }
   ],
   "source": [
    "cross_model[1].predict(Xtest[:30]), Ytest[:30]"
   ]
  },
  {
   "cell_type": "code",
   "execution_count": 73,
   "metadata": {
    "collapsed": false
   },
   "outputs": [],
   "source": [
    "reshaped=cross_model[1].predict(Xtest[:30]).reshape(-1,1)"
   ]
  },
  {
   "cell_type": "code",
   "execution_count": 74,
   "metadata": {
    "collapsed": true
   },
   "outputs": [],
   "source": [
    "reshaped2=cross_model[1].predict(Xtest).reshape(-1,1)"
   ]
  },
  {
   "cell_type": "code",
   "execution_count": 75,
   "metadata": {
    "collapsed": false
   },
   "outputs": [
    {
     "data": {
      "text/plain": [
       "((30, 1), (30,))"
      ]
     },
     "execution_count": 75,
     "metadata": {},
     "output_type": "execute_result"
    }
   ],
   "source": [
    "reshaped.shape, Ytest[:30].shape"
   ]
  },
  {
   "cell_type": "code",
   "execution_count": 76,
   "metadata": {
    "collapsed": false
   },
   "outputs": [
    {
     "data": {
      "text/plain": [
       "LinearRegression(copy_X=True, fit_intercept=True, n_jobs=1, normalize=False)"
      ]
     },
     "execution_count": 76,
     "metadata": {},
     "output_type": "execute_result"
    }
   ],
   "source": [
    "corrected_model.fit(reshaped,Ytest[:30])\n"
   ]
  },
  {
   "cell_type": "code",
   "execution_count": 77,
   "metadata": {
    "collapsed": false
   },
   "outputs": [
    {
     "data": {
      "text/plain": [
       "(array([ 0.96427289]), -0.27886898193226273)"
      ]
     },
     "execution_count": 77,
     "metadata": {},
     "output_type": "execute_result"
    }
   ],
   "source": [
    "corrected_model.coef_, corrected_model.intercept_"
   ]
  },
  {
   "cell_type": "code",
   "execution_count": 78,
   "metadata": {
    "collapsed": false
   },
   "outputs": [
    {
     "name": "stdout",
     "output_type": "stream",
     "text": [
      "1.98555162862\n",
      "3.24486563995\n"
     ]
    }
   ],
   "source": [
    "print(get_std(reshaped2,Ytest,corrected_model))\n",
    "print (get_std(Xtest,Ytest,cross_model[2]))"
   ]
  },
  {
   "cell_type": "code",
   "execution_count": 79,
   "metadata": {
    "collapsed": false
   },
   "outputs": [],
   "source": [
    "from sklearn.linear_model import Ridge"
   ]
  },
  {
   "cell_type": "code",
   "execution_count": 80,
   "metadata": {
    "collapsed": false
   },
   "outputs": [
    {
     "name": "stdout",
     "output_type": "stream",
     "text": [
      "2.01146572362\n"
     ]
    }
   ],
   "source": [
    "ridge_model = Ridge(alpha=4.0)\n",
    "ridge_model.fit(Xclean1, Yclean1)\n",
    "print(get_std(Xtest,Ytest, ridge_model))"
   ]
  },
  {
   "cell_type": "code",
   "execution_count": null,
   "metadata": {
    "collapsed": false
   },
   "outputs": [],
   "source": []
  },
  {
   "cell_type": "code",
   "execution_count": 81,
   "metadata": {
    "collapsed": true
   },
   "outputs": [],
   "source": [
    "import matplotlib.pyplot as plt\n",
    "%matplotlib inline"
   ]
  },
  {
   "cell_type": "code",
   "execution_count": 71,
   "metadata": {
    "collapsed": false
   },
   "outputs": [
    {
     "data": {
      "text/plain": [
       "<matplotlib.collections.PathCollection at 0xa697670>"
      ]
     },
     "execution_count": 71,
     "metadata": {},
     "output_type": "execute_result"
    },
    {
     "data": {
      "image/png": "[encoded data removed]",
      "text/plain": [
       "<matplotlib.figure.Figure at 0xaf2da50>"
      ]
     },
     "metadata": {},
     "output_type": "display_data"
    }
   ],
   "source": [
    "plt.scatter(cross_model[1].predict(Xtest),Ytest)\n"
   ]
  },
  {
   "cell_type": "code",
   "execution_count": null,
   "metadata": {
    "collapsed": true
   },
   "outputs": [],
   "source": []
  },
  {
   "cell_type": "code",
   "execution_count": null,
   "metadata": {
    "collapsed": true
   },
   "outputs": [],
   "source": []
  }
 ],
 "metadata": {
  "kernelspec": {
   "display_name": "Python 2",
   "language": "python",
   "name": "python2"
  },
  "language_info": {
   "codemirror_mode": {
    "name": "ipython",
    "version": 2
   },
   "file_extension": ".py",
   "mimetype": "text/x-python",
   "name": "python",
   "nbconvert_exporter": "python",
   "pygments_lexer": "ipython2",
   "version": "2.7.11"
  }
 },
 "nbformat": 4,
 "nbformat_minor": 0
}
